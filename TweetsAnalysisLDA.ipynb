{
  "nbformat": 4,
  "nbformat_minor": 0,
  "metadata": {
    "colab": {
      "provenance": []
    },
    "kernelspec": {
      "name": "python3",
      "display_name": "Python 3"
    },
    "language_info": {
      "name": "python"
    }
  },
  "cells": [
    {
      "cell_type": "code",
      "source": [
        "import octis\n",
        "import pandas as pd"
      ],
      "metadata": {
        "id": "wraXur2vpbJK"
      },
      "execution_count": null,
      "outputs": []
    },
    {
      "cell_type": "code",
      "source": [
        "newdf = pd.read_csv('tweets_filt.csv')"
      ],
      "metadata": {
        "id": "3zka3uaUptg3"
      },
      "execution_count": null,
      "outputs": []
    },
    {
      "cell_type": "code",
      "source": [
        "newdf.head()"
      ],
      "metadata": {
        "colab": {
          "base_uri": "https://localhost:8080/",
          "height": 206
        },
        "id": "Kf0CxOXGp_le",
        "outputId": "a38cc676-6880-4b34-f19e-41595e3eca92"
      },
      "execution_count": null,
      "outputs": [
        {
          "output_type": "execute_result",
          "data": {
            "text/plain": [
              "          username                                              tweet  \\\n",
              "0  pabloandrespozo  #endlessbodegon #NYC #NFTCommunity #NFT_NYC @N...   \n",
              "1       fionaaboud  @FerCaggianoArt rockin get awesome knowledge a...   \n",
              "2          jeffjoz  @Bupolo_ @ThetaDrop @Theta_Network @SonyElectr...   \n",
              "3   lanell97977606  🗽 This year's @NFT_NYC will be bigger than eve...   \n",
              "4      artangelsla                      @LindseyPriceArt @NFT_NYC 👏💙😇   \n",
              "\n",
              "   likes_count  \n",
              "0            0  \n",
              "1            0  \n",
              "2            0  \n",
              "3            0  \n",
              "4            0  "
            ],
            "text/html": [
              "\n",
              "  <div id=\"df-605b69ca-ff9a-439b-92b5-4bf8047e2cb5\">\n",
              "    <div class=\"colab-df-container\">\n",
              "      <div>\n",
              "<style scoped>\n",
              "    .dataframe tbody tr th:only-of-type {\n",
              "        vertical-align: middle;\n",
              "    }\n",
              "\n",
              "    .dataframe tbody tr th {\n",
              "        vertical-align: top;\n",
              "    }\n",
              "\n",
              "    .dataframe thead th {\n",
              "        text-align: right;\n",
              "    }\n",
              "</style>\n",
              "<table border=\"1\" class=\"dataframe\">\n",
              "  <thead>\n",
              "    <tr style=\"text-align: right;\">\n",
              "      <th></th>\n",
              "      <th>username</th>\n",
              "      <th>tweet</th>\n",
              "      <th>likes_count</th>\n",
              "    </tr>\n",
              "  </thead>\n",
              "  <tbody>\n",
              "    <tr>\n",
              "      <th>0</th>\n",
              "      <td>pabloandrespozo</td>\n",
              "      <td>#endlessbodegon #NYC #NFTCommunity #NFT_NYC @N...</td>\n",
              "      <td>0</td>\n",
              "    </tr>\n",
              "    <tr>\n",
              "      <th>1</th>\n",
              "      <td>fionaaboud</td>\n",
              "      <td>@FerCaggianoArt rockin get awesome knowledge a...</td>\n",
              "      <td>0</td>\n",
              "    </tr>\n",
              "    <tr>\n",
              "      <th>2</th>\n",
              "      <td>jeffjoz</td>\n",
              "      <td>@Bupolo_ @ThetaDrop @Theta_Network @SonyElectr...</td>\n",
              "      <td>0</td>\n",
              "    </tr>\n",
              "    <tr>\n",
              "      <th>3</th>\n",
              "      <td>lanell97977606</td>\n",
              "      <td>🗽 This year's @NFT_NYC will be bigger than eve...</td>\n",
              "      <td>0</td>\n",
              "    </tr>\n",
              "    <tr>\n",
              "      <th>4</th>\n",
              "      <td>artangelsla</td>\n",
              "      <td>@LindseyPriceArt @NFT_NYC 👏💙😇</td>\n",
              "      <td>0</td>\n",
              "    </tr>\n",
              "  </tbody>\n",
              "</table>\n",
              "</div>\n",
              "      <button class=\"colab-df-convert\" onclick=\"convertToInteractive('df-605b69ca-ff9a-439b-92b5-4bf8047e2cb5')\"\n",
              "              title=\"Convert this dataframe to an interactive table.\"\n",
              "              style=\"display:none;\">\n",
              "        \n",
              "  <svg xmlns=\"http://www.w3.org/2000/svg\" height=\"24px\"viewBox=\"0 0 24 24\"\n",
              "       width=\"24px\">\n",
              "    <path d=\"M0 0h24v24H0V0z\" fill=\"none\"/>\n",
              "    <path d=\"M18.56 5.44l.94 2.06.94-2.06 2.06-.94-2.06-.94-.94-2.06-.94 2.06-2.06.94zm-11 1L8.5 8.5l.94-2.06 2.06-.94-2.06-.94L8.5 2.5l-.94 2.06-2.06.94zm10 10l.94 2.06.94-2.06 2.06-.94-2.06-.94-.94-2.06-.94 2.06-2.06.94z\"/><path d=\"M17.41 7.96l-1.37-1.37c-.4-.4-.92-.59-1.43-.59-.52 0-1.04.2-1.43.59L10.3 9.45l-7.72 7.72c-.78.78-.78 2.05 0 2.83L4 21.41c.39.39.9.59 1.41.59.51 0 1.02-.2 1.41-.59l7.78-7.78 2.81-2.81c.8-.78.8-2.07 0-2.86zM5.41 20L4 18.59l7.72-7.72 1.47 1.35L5.41 20z\"/>\n",
              "  </svg>\n",
              "      </button>\n",
              "      \n",
              "  <style>\n",
              "    .colab-df-container {\n",
              "      display:flex;\n",
              "      flex-wrap:wrap;\n",
              "      gap: 12px;\n",
              "    }\n",
              "\n",
              "    .colab-df-convert {\n",
              "      background-color: #E8F0FE;\n",
              "      border: none;\n",
              "      border-radius: 50%;\n",
              "      cursor: pointer;\n",
              "      display: none;\n",
              "      fill: #1967D2;\n",
              "      height: 32px;\n",
              "      padding: 0 0 0 0;\n",
              "      width: 32px;\n",
              "    }\n",
              "\n",
              "    .colab-df-convert:hover {\n",
              "      background-color: #E2EBFA;\n",
              "      box-shadow: 0px 1px 2px rgba(60, 64, 67, 0.3), 0px 1px 3px 1px rgba(60, 64, 67, 0.15);\n",
              "      fill: #174EA6;\n",
              "    }\n",
              "\n",
              "    [theme=dark] .colab-df-convert {\n",
              "      background-color: #3B4455;\n",
              "      fill: #D2E3FC;\n",
              "    }\n",
              "\n",
              "    [theme=dark] .colab-df-convert:hover {\n",
              "      background-color: #434B5C;\n",
              "      box-shadow: 0px 1px 3px 1px rgba(0, 0, 0, 0.15);\n",
              "      filter: drop-shadow(0px 1px 2px rgba(0, 0, 0, 0.3));\n",
              "      fill: #FFFFFF;\n",
              "    }\n",
              "  </style>\n",
              "\n",
              "      <script>\n",
              "        const buttonEl =\n",
              "          document.querySelector('#df-605b69ca-ff9a-439b-92b5-4bf8047e2cb5 button.colab-df-convert');\n",
              "        buttonEl.style.display =\n",
              "          google.colab.kernel.accessAllowed ? 'block' : 'none';\n",
              "\n",
              "        async function convertToInteractive(key) {\n",
              "          const element = document.querySelector('#df-605b69ca-ff9a-439b-92b5-4bf8047e2cb5');\n",
              "          const dataTable =\n",
              "            await google.colab.kernel.invokeFunction('convertToInteractive',\n",
              "                                                     [key], {});\n",
              "          if (!dataTable) return;\n",
              "\n",
              "          const docLinkHtml = 'Like what you see? Visit the ' +\n",
              "            '<a target=\"_blank\" href=https://colab.research.google.com/notebooks/data_table.ipynb>data table notebook</a>'\n",
              "            + ' to learn more about interactive tables.';\n",
              "          element.innerHTML = '';\n",
              "          dataTable['output_type'] = 'display_data';\n",
              "          await google.colab.output.renderOutput(dataTable, element);\n",
              "          const docLink = document.createElement('div');\n",
              "          docLink.innerHTML = docLinkHtml;\n",
              "          element.appendChild(docLink);\n",
              "        }\n",
              "      </script>\n",
              "    </div>\n",
              "  </div>\n",
              "  "
            ]
          },
          "metadata": {},
          "execution_count": 11
        }
      ]
    },
    {
      "cell_type": "code",
      "source": [
        "# Load the regular expression library\n",
        "import re\n",
        "# Remove punctuation\n",
        "newdf['tweet_processed'] = \\\n",
        "newdf['tweet'].map(lambda x: re.sub('[,\\.!?]', '', x))\n",
        "# Convert the titles to lowercase\n",
        "newdf['tweet_processed'] = \\\n",
        "newdf['tweet_processed'].map(lambda x: x.lower())\n",
        "\n",
        "newdf['tweet_processed'].head()"
      ],
      "metadata": {
        "colab": {
          "base_uri": "https://localhost:8080/"
        },
        "id": "cFhQYo3Cq7uL",
        "outputId": "fbcd9d9b-6cfb-4d5d-92d6-4653bbcf1949"
      },
      "execution_count": null,
      "outputs": [
        {
          "output_type": "execute_result",
          "data": {
            "text/plain": [
              "0    #endlessbodegon #nyc #nftcommunity #nft_nyc @n...\n",
              "1    @fercaggianoart rockin get awesome knowledge a...\n",
              "2    @bupolo_ @thetadrop @theta_network @sonyelectr...\n",
              "3    🗽 this year's @nft_nyc will be bigger than eve...\n",
              "4                        @lindseypriceart @nft_nyc 👏💙😇\n",
              "Name: tweet_processed, dtype: object"
            ]
          },
          "metadata": {},
          "execution_count": 16
        }
      ]
    },
    {
      "cell_type": "code",
      "source": [
        "#reuse LDA code from previous project\n",
        "\n",
        "import gensim\n",
        "from gensim.utils import simple_preprocess\n",
        "import nltk\n",
        "nltk.download('stopwords')\n",
        "from nltk.corpus import stopwords\n",
        "stop_words = stopwords.words('english')\n",
        "stop_words.extend(['from', 'subject', 're', 'edu', 'use'])\n",
        "def sent_to_words(sentences):\n",
        "    for sentence in sentences:\n",
        "        # deacc=True removes punctuations\n",
        "        yield(gensim.utils.simple_preprocess(str(sentence), deacc=True))\n",
        "def remove_stopwords(texts):\n",
        "    return [[word for word in simple_preprocess(str(doc)) \n",
        "             if word not in stop_words] for doc in texts]\n",
        "data = newdf.tweet_processed.values.tolist()\n",
        "data_words = list(sent_to_words(data))\n",
        "# remove stop words\n",
        "data_words = remove_stopwords(data_words)\n",
        "print(data_words[:1][0][:30])"
      ],
      "metadata": {
        "colab": {
          "base_uri": "https://localhost:8080/"
        },
        "id": "qWtOn31fwgKU",
        "outputId": "d82bab92-69b9-4812-9323-edf558eca251"
      },
      "execution_count": null,
      "outputs": [
        {
          "output_type": "stream",
          "name": "stderr",
          "text": [
            "[nltk_data] Downloading package stopwords to /root/nltk_data...\n",
            "[nltk_data]   Package stopwords is already up-to-date!\n"
          ]
        },
        {
          "output_type": "stream",
          "name": "stdout",
          "text": [
            "['endlessbodegon', 'nyc', 'nftcommunity', 'nft_nyc', 'nft_nyc', 'https', 'tco', 'nfc', 'nvj']\n"
          ]
        }
      ]
    },
    {
      "cell_type": "code",
      "source": [
        "import gensim.corpora as corpora\n",
        "# Create Dictionary\n",
        "id2word = corpora.Dictionary(data_words)\n",
        "# Create Corpus\n",
        "texts = data_words\n",
        "# Term Document Frequency\n",
        "corpus = [id2word.doc2bow(text) for text in texts]\n",
        "# View\n",
        "print(corpus[:1][0][:30])"
      ],
      "metadata": {
        "colab": {
          "base_uri": "https://localhost:8080/"
        },
        "id": "wqFxAP7Owh0P",
        "outputId": "ad93daee-856a-44d1-e9c6-b42ca4e13bd9"
      },
      "execution_count": null,
      "outputs": [
        {
          "output_type": "stream",
          "name": "stdout",
          "text": [
            "[(0, 1), (1, 1), (2, 1), (3, 2), (4, 1), (5, 1), (6, 1), (7, 1)]\n"
          ]
        }
      ]
    },
    {
      "cell_type": "code",
      "source": [
        "from pprint import pprint\n",
        "# number of topics\n",
        "num_topics = 10\n",
        "# Build LDA model\n",
        "lda_model = gensim.models.LdaMulticore(corpus=corpus,\n",
        "                                       id2word=id2word,\n",
        "                                       num_topics=num_topics)\n",
        "# Print the Keyword in the 10 topics\n",
        "pprint(lda_model.print_topics())\n",
        "doc_lda = lda_model[corpus]"
      ],
      "metadata": {
        "colab": {
          "base_uri": "https://localhost:8080/"
        },
        "id": "U1IwBgoLwtvQ",
        "outputId": "a362a892-43d7-48fb-e953-a5a18d48b45c"
      },
      "execution_count": null,
      "outputs": [
        {
          "output_type": "stream",
          "name": "stdout",
          "text": [
            "[(0,\n",
            "  '0.097*\"nft_nyc\" + 0.037*\"superchiefnft\" + 0.028*\"timepieces\" + '\n",
            "  '0.018*\"rugradio\" + 0.017*\"congrats\" + 0.015*\"congratulations\" + '\n",
            "  '0.014*\"unknownco\" + 0.014*\"vizmesh\" + 0.014*\"farokh\" + '\n",
            "  '0.014*\"johnknopfphotos\"'),\n",
            " (1,\n",
            "  '0.177*\"nft_nyc\" + 0.049*\"projectgalaxyhq\" + 0.019*\"bluugu\" + 0.013*\"cool\" + '\n",
            "  '0.011*\"nice\" + 0.008*\"axieinfinity\" + 0.008*\"thesandboxgame\" + '\n",
            "  '0.007*\"great\" + 0.005*\"wait\" + 0.005*\"mhmarquisnyc\"'),\n",
            " (2,\n",
            "  '0.087*\"nft_nyc\" + 0.016*\"cozomomedici\" + 0.013*\"nickelodeon_nft\" + '\n",
            "  '0.011*\"nonfungiblefilm\" + 0.010*\"osf_nft\" + 0.009*\"usmverse\" + '\n",
            "  '0.009*\"frenchmontana\" + 0.008*\"mtg_usm\" + 0.008*\"rektguynft\" + 0.006*\"wax\"'),\n",
            " (3,\n",
            "  '0.188*\"nft_nyc\" + 0.036*\"gm\" + 0.022*\"good\" + 0.014*\"ded\" + 0.010*\"web\" + '\n",
            "  '0.009*\"project\" + 0.007*\"enjoy\" + 0.007*\"nicolaarmento\" + '\n",
            "  '0.007*\"matthewmorrocco\" + 0.007*\"wearetopramen\"'),\n",
            " (4,\n",
            "  '0.089*\"nft_nyc\" + 0.022*\"lfg\" + 0.021*\"https\" + 0.021*\"tco\" + '\n",
            "  '0.015*\"nftnyc\" + 0.013*\"nft\" + 0.012*\"flow_blockchain\" + 0.011*\"dapperlabs\" '\n",
            "  '+ 0.009*\"going\" + 0.009*\"nyc\"'),\n",
            " (5,\n",
            "  '0.178*\"nft_nyc\" + 0.036*\"go\" + 0.018*\"let\" + 0.013*\"projectgalaxyhq\" + '\n",
            "  '0.013*\"love\" + 0.011*\"opensea\" + 0.009*\"thanks\" + 0.008*\"lets\" + '\n",
            "  '0.008*\"hope\" + 0.007*\"de\"'),\n",
            " (6,\n",
            "  '0.093*\"nft_nyc\" + 0.077*\"https\" + 0.077*\"tco\" + 0.032*\"nftnyc\" + '\n",
            "  '0.019*\"nft\" + 0.013*\"see\" + 0.012*\"nyc\" + 0.010*\"nfts\" + 0.008*\"amp\" + '\n",
            "  '0.008*\"week\"'),\n",
            " (7,\n",
            "  '0.142*\"nft_nyc\" + 0.035*\"thank\" + 0.015*\"superchiefnft\" + 0.014*\"ninfa_io\" '\n",
            "  '+ 0.011*\"much\" + 0.009*\"doodles\" + 0.008*\"joynxyz\" + 0.007*\"seeking_sonja\" '\n",
            "  '+ 0.007*\"yes\" + 0.007*\"sabet\"'),\n",
            " (8,\n",
            "  '0.103*\"nft_nyc\" + 0.026*\"tco\" + 0.026*\"https\" + 0.017*\"goblintownwtf\" + '\n",
            "  '0.013*\"looking\" + 0.012*\"forward\" + 0.012*\"compstompstudio\" + '\n",
            "  '0.010*\"mightydylank\" + 0.008*\"drewaustin\" + 0.006*\"iamckbubbles\"'),\n",
            " (9,\n",
            "  '0.080*\"nft_nyc\" + 0.021*\"boredapeyc\" + 0.016*\"cryptopharaohs_\" + '\n",
            "  '0.012*\"nftnycsea\" + 0.012*\"new\" + 0.010*\"snoopdogg\" + 0.010*\"apophis\" + '\n",
            "  '0.010*\"worldofwomennft\" + 0.009*\"york\" + 0.009*\"tco\"')]\n"
          ]
        }
      ]
    },
    {
      "cell_type": "code",
      "source": [],
      "metadata": {
        "id": "nVuj_RfxxsIW"
      },
      "execution_count": null,
      "outputs": []
    }
  ]
}